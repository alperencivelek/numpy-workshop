{
 "cells": [
  {
   "cell_type": "code",
   "execution_count": 1,
   "id": "5cec2789-6cda-4cf8-a26d-b3f0c6962fbc",
   "metadata": {},
   "outputs": [],
   "source": [
    "import numpy as np"
   ]
  },
  {
   "cell_type": "markdown",
   "id": "339c9f75-64c0-4f33-afab-3ae8eb1688dc",
   "metadata": {},
   "source": [
    "# Manuel değerleri el ile girerek 3 boyutlu bir array oluşturup bir değişkene atayın. Ardından 3 boyutlu olup olmadığına bakmak için dimension'ını kontrol edin"
   ]
  },
  {
   "cell_type": "code",
   "execution_count": 2,
   "id": "3c30245c-f8e4-42c3-aa31-d433d285f0ec",
   "metadata": {},
   "outputs": [
    {
     "name": "stdout",
     "output_type": "stream",
     "text": [
      "[[[ 17  26  43]\n",
      "  [100 311  31]]\n",
      "\n",
      " [[ 56  28  64]\n",
      "  [ 43  29  77]]\n",
      "\n",
      " [[ 88  23  99]\n",
      "  [ 49 123 421]]]\n",
      "3\n"
     ]
    }
   ],
   "source": [
    "array3B=np.array([[[17,26,43],[100,311,31]],[[56,28,64],[43,29,77]],[[88,23,99],[49,123,421]]])\n",
    "print(array3B)\n",
    "print(array3B.ndim)"
   ]
  },
  {
   "cell_type": "markdown",
   "id": "ac752165-d419-4eb7-9534-e51705c14614",
   "metadata": {},
   "source": [
    "# 34, 40, 46, 52... 112 şeklinde devam eden 1 boyutlu bir array oluşturun."
   ]
  },
  {
   "cell_type": "code",
   "execution_count": 3,
   "id": "0a647f5b-dbba-4bdc-aea4-8f941602832f",
   "metadata": {},
   "outputs": [
    {
     "data": {
      "text/plain": [
       "array([ 34,  40,  46,  52,  58,  64,  70,  76,  82,  88,  94, 100, 106,\n",
       "       112])"
      ]
     },
     "execution_count": 3,
     "metadata": {},
     "output_type": "execute_result"
    }
   ],
   "source": [
    "array1B=np.arange(34,118,6)\n",
    "array1B"
   ]
  },
  {
   "cell_type": "markdown",
   "id": "eb006f90-b491-48d0-9966-20752e95fc38",
   "metadata": {},
   "source": [
    "# 50-500 arasında lineer artış gösteren 91 tane tam sayıdan oluşan bir array oluşturun.(dtype'ı int olsun)"
   ]
  },
  {
   "cell_type": "code",
   "execution_count": 4,
   "id": "5acb050c-4c68-48cf-a99f-83cfd64715dd",
   "metadata": {},
   "outputs": [
    {
     "data": {
      "text/plain": [
       "array([ 50,  55,  60,  65,  70,  75,  80,  85,  90,  95, 100, 105, 110,\n",
       "       115, 120, 125, 130, 135, 140, 145, 150, 155, 160, 165, 170, 175,\n",
       "       180, 185, 190, 195, 200, 205, 210, 215, 220, 225, 230, 235, 240,\n",
       "       245, 250, 255, 260, 265, 270, 275, 280, 285, 290, 295, 300, 305,\n",
       "       310, 315, 320, 325, 330, 335, 340, 345, 350, 355, 360, 365, 370,\n",
       "       375, 380, 385, 390, 395, 400, 405, 410, 415, 420, 425, 430, 435,\n",
       "       440, 445, 450, 455, 460, 465, 470, 475, 480, 485, 490, 495, 500])"
      ]
     },
     "execution_count": 4,
     "metadata": {},
     "output_type": "execute_result"
    }
   ],
   "source": [
    "array91=np.linspace(50,500,91, dtype=int)\n",
    "array91"
   ]
  },
  {
   "cell_type": "markdown",
   "id": "8c7247d0-92e5-4edf-8a59-f0fef3ff110c",
   "metadata": {},
   "source": [
    "# 100(10^2) ile 10000(10^5) arasında logaritmik artış gösteren 8 sayıdan oluşan bir array oluşturun."
   ]
  },
  {
   "cell_type": "code",
   "execution_count": 5,
   "id": "700399ad-a4bf-4da4-86e2-04e2c2e2419f",
   "metadata": {},
   "outputs": [
    {
     "data": {
      "text/plain": [
       "array([   100.        ,    268.26957953,    719.685673  ,   1930.69772888,\n",
       "         5179.47467923,  13894.95494373,  37275.93720315, 100000.        ])"
      ]
     },
     "execution_count": 5,
     "metadata": {},
     "output_type": "execute_result"
    }
   ],
   "source": [
    "array8=np.logspace(2,5,8)\n",
    "array8"
   ]
  },
  {
   "cell_type": "markdown",
   "id": "1447b3fd-baf5-4aae-b991-e69f90f90823",
   "metadata": {},
   "source": [
    "# 0-8 tam arasındaki ardışık tam sayılardan oluşan(0 ve 8 dahil toplam 9 değer) 3x3 shape'inde bir matris oluşturun."
   ]
  },
  {
   "cell_type": "code",
   "execution_count": 6,
   "id": "df2db312-51ab-471c-8557-51b0ae38c2b8",
   "metadata": {},
   "outputs": [
    {
     "data": {
      "text/plain": [
       "array([[0, 1, 2],\n",
       "       [3, 4, 5],\n",
       "       [6, 7, 8]])"
      ]
     },
     "execution_count": 6,
     "metadata": {},
     "output_type": "execute_result"
    }
   ],
   "source": [
    "array33=np.arange(0,9).reshape(3,3)\n",
    "array33"
   ]
  },
  {
   "cell_type": "markdown",
   "id": "390d5fbd-e47c-43ea-949d-f87ee2e0fed1",
   "metadata": {
    "tags": []
   },
   "source": [
    "# 6x6 formatında bir sıfır matrisi oluşturun. (dtype'ı int olsun)"
   ]
  },
  {
   "cell_type": "code",
   "execution_count": 7,
   "id": "979d130c-1a5d-42fd-ac76-93af9d09e4c8",
   "metadata": {},
   "outputs": [
    {
     "data": {
      "text/plain": [
       "array([[0, 0, 0, 0, 0, 0],\n",
       "       [0, 0, 0, 0, 0, 0],\n",
       "       [0, 0, 0, 0, 0, 0],\n",
       "       [0, 0, 0, 0, 0, 0],\n",
       "       [0, 0, 0, 0, 0, 0],\n",
       "       [0, 0, 0, 0, 0, 0]])"
      ]
     },
     "execution_count": 7,
     "metadata": {},
     "output_type": "execute_result"
    }
   ],
   "source": [
    "array0=np.zeros((6,6), dtype=int)\n",
    "array0"
   ]
  },
  {
   "cell_type": "markdown",
   "id": "696460f9-123f-40b4-ad32-cc8b72459daf",
   "metadata": {},
   "source": [
    "# 4x4 formatında bir bir matrisi oluşturun. (dtype'ı int olsun)"
   ]
  },
  {
   "cell_type": "code",
   "execution_count": 8,
   "id": "227eed2d-3002-4077-9c85-b779f24a65de",
   "metadata": {},
   "outputs": [
    {
     "data": {
      "text/plain": [
       "array([[1, 1, 1, 1],\n",
       "       [1, 1, 1, 1],\n",
       "       [1, 1, 1, 1],\n",
       "       [1, 1, 1, 1]])"
      ]
     },
     "execution_count": 8,
     "metadata": {},
     "output_type": "execute_result"
    }
   ],
   "source": [
    "array1=np.ones((4,4), dtype=int)\n",
    "array1"
   ]
  },
  {
   "cell_type": "markdown",
   "id": "d7db3c73-f001-47c7-9a2f-5997a8c90951",
   "metadata": {
    "tags": []
   },
   "source": [
    "# 8x8 formatında bir birim matris oluşturun. (Sadece sol köşegeni 1 geri kalan değerleri 0 olan matris'e birim matris deniyor.) (dtype'ı int olsun)"
   ]
  },
  {
   "cell_type": "code",
   "execution_count": 9,
   "id": "2124e243-c5c9-4bfd-b24d-4592b8a92bc5",
   "metadata": {},
   "outputs": [
    {
     "data": {
      "text/plain": [
       "array([[1, 0, 0, 0, 0, 0, 0, 0],\n",
       "       [0, 1, 0, 0, 0, 0, 0, 0],\n",
       "       [0, 0, 1, 0, 0, 0, 0, 0],\n",
       "       [0, 0, 0, 1, 0, 0, 0, 0],\n",
       "       [0, 0, 0, 0, 1, 0, 0, 0],\n",
       "       [0, 0, 0, 0, 0, 1, 0, 0],\n",
       "       [0, 0, 0, 0, 0, 0, 1, 0],\n",
       "       [0, 0, 0, 0, 0, 0, 0, 1]])"
      ]
     },
     "execution_count": 9,
     "metadata": {},
     "output_type": "execute_result"
    }
   ],
   "source": [
    "array88=np.eye(8, dtype=int)\n",
    "array88"
   ]
  },
  {
   "cell_type": "markdown",
   "id": "93d51daa-9ebd-48e4-89a1-c8188d9d9069",
   "metadata": {},
   "source": [
    "# 5x5 formatında bir köşegen matrisi oluşturun (Sadece sol üstten sağ alta doğru olan köşegendeki değerleri 3 olsun diğer bütün değerleri 0) (Bunu henüz görmediniz ama birim matrise benziyor, sadece köşegen değerleri 1 değil 3 olacak. Bir şeyler düşünün)"
   ]
  },
  {
   "cell_type": "code",
   "execution_count": 10,
   "id": "8a5bf103-7260-4726-87c1-a3b2a9e614c2",
   "metadata": {},
   "outputs": [
    {
     "data": {
      "text/plain": [
       "array([[3, 0, 0, 0, 0],\n",
       "       [0, 3, 0, 0, 0],\n",
       "       [0, 0, 3, 0, 0],\n",
       "       [0, 0, 0, 3, 0],\n",
       "       [0, 0, 0, 0, 3]])"
      ]
     },
     "execution_count": 10,
     "metadata": {},
     "output_type": "execute_result"
    }
   ],
   "source": [
    "array55=np.eye(5, dtype=int)*3\n",
    "array55"
   ]
  },
  {
   "cell_type": "markdown",
   "id": "95df3119-eaad-4b14-8681-736cfd3de0a6",
   "metadata": {},
   "source": [
    "# np.random modülünden uygun fonksiyonu kullanarak 0-1 arasında toplam 6 tane değerden oluşan 1 boyutlu bir array oluşturun."
   ]
  },
  {
   "cell_type": "code",
   "execution_count": 11,
   "id": "0cf60c1c-a362-4373-8adb-79dd5f1e318e",
   "metadata": {},
   "outputs": [
    {
     "data": {
      "text/plain": [
       "array([0.68190103, 0.66462661, 0.68583935, 0.67046689, 0.07208473,\n",
       "       0.55732637])"
      ]
     },
     "execution_count": 11,
     "metadata": {},
     "output_type": "execute_result"
    }
   ],
   "source": [
    "arrayrand=np.random.random(6)\n",
    "arrayrand"
   ]
  },
  {
   "cell_type": "markdown",
   "id": "678d9305-a503-482a-b1c4-e0c4cd61ec43",
   "metadata": {},
   "source": [
    "# np.random modülünden uygun fonksiyonu kullanarak 50-100 arasındaki(50 ve 100 dahil) tam sayılardan 10 tanesiyle oluşan (5,2) shape'inde bir array oluşturun. Ardından bu arrayin shape'ini kontrol edin."
   ]
  },
  {
   "cell_type": "code",
   "execution_count": 12,
   "id": "f6fab506-94aa-47d7-a843-9f8247839687",
   "metadata": {},
   "outputs": [
    {
     "name": "stdout",
     "output_type": "stream",
     "text": [
      "[[92 57]\n",
      " [51 80]\n",
      " [72 88]\n",
      " [99 89]\n",
      " [92 64]]\n",
      "(5, 2)\n"
     ]
    }
   ],
   "source": [
    "arrayrandint=np.random.randint(50,101,(5,2))\n",
    "print(arrayrandint)\n",
    "print(arrayrandint.shape)"
   ]
  },
  {
   "cell_type": "markdown",
   "id": "44833545-82a7-4682-9367-8873340ff5eb",
   "metadata": {},
   "source": [
    "# np.random modülünden uygun fonksiyonu kullanarak 100-1000(1000 dahil değil) arasındaki tam sayılardan rastgele 50 tanesinden oluşan (2,5,5) shape'inde 3 boyutlu bir array oluşturun. Ardından bu array'in dimension'ını(boyutunu) ve shape'ini kontrol edin."
   ]
  },
  {
   "cell_type": "code",
   "execution_count": 13,
   "id": "a3506f7b-fad8-433a-a284-274e27e9fe63",
   "metadata": {},
   "outputs": [
    {
     "name": "stdout",
     "output_type": "stream",
     "text": [
      "[[[562 706 856 998 739]\n",
      "  [656 589 838 363 974]\n",
      "  [804 648 698 399 306]\n",
      "  [197 101 453 244 963]\n",
      "  [874 944 388 393 848]]\n",
      "\n",
      " [[516 118 718 706 332]\n",
      "  [623 764 636 601 607]\n",
      "  [696 625 934 769 995]\n",
      "  [886 319 148 428 243]\n",
      "  [863 170 817 630 150]]]\n",
      "Boyutu 3 Shape (2, 5, 5)\n"
     ]
    }
   ],
   "source": [
    "arrayint=np.random.randint(100,1000,(2,5,5))\n",
    "print(arrayint)\n",
    "print(\"Boyutu \"+str(arrayint.ndim)+\" Shape \"+ str(arrayint.shape))"
   ]
  },
  {
   "cell_type": "markdown",
   "id": "bf5b5687-aa88-4094-adc2-fac291ab51b6",
   "metadata": {},
   "source": [
    "# np.random modülünden uygun fonksiyonu kullanarak 0-100(0 ve 100 dahil) arasındaki tam sayılardan 10 tane seçerek bir array oluşturun. Bu array'in maximum, mininmum değerlerine ve bu değerlerin indexlerine bakın."
   ]
  },
  {
   "cell_type": "code",
   "execution_count": 14,
   "id": "c8ed6d9f-3453-4e74-b248-58a0dfa5830a",
   "metadata": {},
   "outputs": [
    {
     "name": "stdout",
     "output_type": "stream",
     "text": [
      "[ 9 55 62 63 31 25 27 83  7 89]\n",
      "89\n",
      "7\n",
      "9\n",
      "8\n"
     ]
    }
   ],
   "source": [
    "new_Array=np.random.randint(0,101,10)\n",
    "print(new_Array)\n",
    "print(new_Array.max())\n",
    "print(new_Array.min())\n",
    "print(new_Array.argmax())\n",
    "print(new_Array.argmin())"
   ]
  },
  {
   "cell_type": "markdown",
   "id": "19203ebe-eabd-47e0-b379-0b5cb9bd79fa",
   "metadata": {},
   "source": [
    "# np.random modülünden uygun fonksiyonu kullanarak 300-500(300 ve 500 dahil) arasındaki tam sayılardan 20 tane seçerek (2,2,5) shape'inde 3 boyutlu bir array oluşturun. Ardından bu array'in içindeki 20 tam sayı arasından maximum ve minimum değerleri manuel olarak tespit edin ve indexleme yaparak çekmeye çalışın."
   ]
  },
  {
   "cell_type": "code",
   "execution_count": 15,
   "id": "3ebcbc10-2d22-4a4a-9b03-16934213527e",
   "metadata": {},
   "outputs": [
    {
     "name": "stdout",
     "output_type": "stream",
     "text": [
      "[[[419 393 494 486 307]\n",
      "  [455 301 394 415 487]]\n",
      "\n",
      " [[443 445 407 473 475]\n",
      "  [368 395 353 438 390]]]\n"
     ]
    }
   ],
   "source": [
    "nparray=np.random.randint(300,501,(2,2,5))\n",
    "print(nparray)"
   ]
  },
  {
   "cell_type": "code",
   "execution_count": 16,
   "id": "8b9c320a-454b-479d-b137-8c22757fdfae",
   "metadata": {},
   "outputs": [
    {
     "name": "stdout",
     "output_type": "stream",
     "text": [
      "368\n",
      "393\n"
     ]
    }
   ],
   "source": [
    "print(nparray[1][1][0])\n",
    "print(nparray[0][0][1])"
   ]
  },
  {
   "cell_type": "markdown",
   "id": "b6f4e8a2-7b5c-4a4b-8b20-77d397673c1c",
   "metadata": {},
   "source": [
    "# 0-50(50 dahil) arasındaki ardışık tam sayılardan oluşan bir array oluşturun. Ardından bu arrayin 20. ve 35. indexleri arasındaki değerleri 500'e eşitleyin ve yeni oluşan array'i ekrana yazdırarak broadcasting işleminin yapılıp yapılmadığını test edin."
   ]
  },
  {
   "cell_type": "code",
   "execution_count": 17,
   "id": "d71330be-4354-472a-8067-64f4f32e2bbd",
   "metadata": {},
   "outputs": [
    {
     "name": "stdout",
     "output_type": "stream",
     "text": [
      "[ 0  1  2  3  4  5  6  7  8  9 10 11 12 13 14 15 16 17 18 19 20 21 22 23\n",
      " 24 25 26 27 28 29 30 31 32 33 34 35 36 37 38 39 40 41 42 43 44 45 46 47\n",
      " 48 49 50]\n",
      "[  0   1   2   3   4   5   6   7   8   9  10  11  12  13  14  15  16  17\n",
      "  18  19 500 500 500 500 500 500 500 500 500 500 500 500 500 500 500  35\n",
      "  36  37  38  39  40  41  42  43  44  45  46  47  48  49  50]\n"
     ]
    }
   ],
   "source": [
    "array50=np.arange(0,51)\n",
    "print(array50)\n",
    "array50[20:35]=500\n",
    "print(array50)"
   ]
  }
 ],
 "metadata": {
  "kernelspec": {
   "display_name": "Python 3 (ipykernel)",
   "language": "python",
   "name": "python3"
  },
  "language_info": {
   "codemirror_mode": {
    "name": "ipython",
    "version": 3
   },
   "file_extension": ".py",
   "mimetype": "text/x-python",
   "name": "python",
   "nbconvert_exporter": "python",
   "pygments_lexer": "ipython3",
   "version": "3.9.13"
  }
 },
 "nbformat": 4,
 "nbformat_minor": 5
}
