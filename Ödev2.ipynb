{
 "cells": [
  {
   "cell_type": "code",
   "execution_count": 1,
   "id": "9b939982-c1b0-4a0a-84c9-023efe13cb20",
   "metadata": {},
   "outputs": [],
   "source": [
    "import numpy as np"
   ]
  },
  {
   "cell_type": "markdown",
   "id": "da799806-9562-43c9-800b-8c27e14dba41",
   "metadata": {},
   "source": [
    "# 0-29 arası(29 dahil, toplam 30 tam sayı) tam sayılardan oluşan bir boyutlu bir array oluşturun ardından bu array'in shape'ini (15,2) şeklinde güncelleyip 2 boyutlu hale getirin."
   ]
  },
  {
   "cell_type": "code",
   "execution_count": 2,
   "id": "8ece0fac-d06d-4207-b22c-c08b38411c58",
   "metadata": {},
   "outputs": [
    {
     "data": {
      "text/plain": [
       "array([[ 0,  1],\n",
       "       [ 2,  3],\n",
       "       [ 4,  5],\n",
       "       [ 6,  7],\n",
       "       [ 8,  9],\n",
       "       [10, 11],\n",
       "       [12, 13],\n",
       "       [14, 15],\n",
       "       [16, 17],\n",
       "       [18, 19],\n",
       "       [20, 21],\n",
       "       [22, 23],\n",
       "       [24, 25],\n",
       "       [26, 27],\n",
       "       [28, 29]])"
      ]
     },
     "execution_count": 2,
     "metadata": {},
     "output_type": "execute_result"
    }
   ],
   "source": [
    "array=np.arange(0,30).reshape(15,2)\n",
    "array"
   ]
  },
  {
   "cell_type": "markdown",
   "id": "ff83dd67-a408-4070-9abf-2bcdd7fd0bcf",
   "metadata": {},
   "source": [
    "# 60 adet rastgele tam sayı verilerinden oluşan bir boyutlu bir array oluşturun. Devamında bu array'i istediğiniz shapelerde 3 boyutlu hale getirin ve son durumda oluşan array'in boyutunu ve shape'ini kontrol edin."
   ]
  },
  {
   "cell_type": "code",
   "execution_count": 3,
   "id": "369e6815-b1cf-4078-8c3a-0825fe77cb60",
   "metadata": {},
   "outputs": [
    {
     "name": "stdout",
     "output_type": "stream",
     "text": [
      "3\n",
      "(5, 4, 3)\n",
      "[[[ 41  52 107]\n",
      "  [ 79  41 111]\n",
      "  [  1  12  96]\n",
      "  [ 54  82 106]]\n",
      "\n",
      " [[ 76  94 113]\n",
      "  [ 96  13  83]\n",
      "  [ 89  57  23]\n",
      "  [102  85  89]]\n",
      "\n",
      " [[  9  45  76]\n",
      "  [118  46 107]\n",
      "  [116 106 119]\n",
      "  [ 77 112  64]]\n",
      "\n",
      " [[ 68   0  49]\n",
      "  [ 19  27   0]\n",
      "  [106 109  55]\n",
      "  [108  14   8]]\n",
      "\n",
      " [[ 84  97 110]\n",
      "  [ 37  88  61]\n",
      "  [ 16  92  64]\n",
      "  [ 16  56 104]]]\n"
     ]
    }
   ],
   "source": [
    "array=np.random.randint(0,120,60).reshape(5,4,3)\n",
    "print(array.ndim)\n",
    "print(array.shape)\n",
    "print(array)"
   ]
  },
  {
   "cell_type": "markdown",
   "id": "8753c500-cd0a-4324-8679-b7a74ab97e71",
   "metadata": {},
   "source": [
    "# 20 elemanlı ve sadece rakamlardan oluşan iki boyutlu bir array oluşturun. Ardından bu array'i düzleştirin ve tek boyutlu hale getirin ve son durumda oluşan array'in boyutunu ve shape'ini kontrol edin."
   ]
  },
  {
   "cell_type": "code",
   "execution_count": 4,
   "id": "b9d71b92-c731-46f2-89ad-790225a809f5",
   "metadata": {},
   "outputs": [
    {
     "data": {
      "text/plain": [
       "array([[0, 1],\n",
       "       [2, 3],\n",
       "       [4, 5],\n",
       "       [6, 7],\n",
       "       [8, 9],\n",
       "       [0, 1],\n",
       "       [2, 3],\n",
       "       [4, 5],\n",
       "       [6, 7],\n",
       "       [8, 9]])"
      ]
     },
     "execution_count": 4,
     "metadata": {},
     "output_type": "execute_result"
    }
   ],
   "source": [
    "array=np.array([[0,1],[2,3],[4,5],[6,7],[8,9],[0,1],[2,3],[4,5],[6,7],[8,9]])\n",
    "array"
   ]
  },
  {
   "cell_type": "code",
   "execution_count": 5,
   "id": "cbe73909-a068-4362-9843-92921df29081",
   "metadata": {},
   "outputs": [
    {
     "name": "stdout",
     "output_type": "stream",
     "text": [
      "[0 1 2 3 4 5 6 7 8 9 0 1 2 3 4 5 6 7 8 9]\n",
      "(20,)\n",
      "1\n"
     ]
    }
   ],
   "source": [
    "array=array.reshape(-1)\n",
    "print(array)\n",
    "print(array.shape)\n",
    "print(array.ndim)"
   ]
  },
  {
   "cell_type": "markdown",
   "id": "8aa5f615-e5da-4674-b0dd-212f3cf99331",
   "metadata": {},
   "source": [
    "# İstediğiniz herhangi elemanlardan oluşan 2 Boyutlu bir array oluşturun. Oluşturduğunuz bu 2 boyutlu array'in içindeki bütün elemanları hem yavaş yol olan for döngüsüyle hem de daha hızlı yol olan uygun NumPy metoduyla tek tek dönerek ekrana yazdırın."
   ]
  },
  {
   "cell_type": "code",
   "execution_count": 6,
   "id": "27e2bf31-3dd8-40ef-96e6-d5fc2bd4be0c",
   "metadata": {},
   "outputs": [
    {
     "name": "stdout",
     "output_type": "stream",
     "text": [
      "0\n",
      "1\n",
      "2\n",
      "3\n",
      "4\n",
      "5\n",
      "6\n",
      "7\n",
      "8\n",
      "9\n",
      "0\n",
      "1\n",
      "2\n",
      "3\n",
      "4\n",
      "5\n",
      "6\n",
      "7\n",
      "8\n",
      "9\n"
     ]
    }
   ],
   "source": [
    "array=np.array([[0,1],[2,3],[4,5],[6,7],[8,9],[0,1],[2,3],[4,5],[6,7],[8,9]])\n",
    "for i in range (len(array)):\n",
    "    for j in range (len(array[i])):\n",
    "        print(array[i][j])"
   ]
  },
  {
   "cell_type": "code",
   "execution_count": 7,
   "id": "6887e16f-1128-42c5-813f-c6bb15c8d0ad",
   "metadata": {},
   "outputs": [
    {
     "name": "stdout",
     "output_type": "stream",
     "text": [
      "0\n",
      "1\n",
      "2\n",
      "3\n",
      "4\n",
      "5\n",
      "6\n",
      "7\n",
      "8\n",
      "9\n",
      "0\n",
      "1\n",
      "2\n",
      "3\n",
      "4\n",
      "5\n",
      "6\n",
      "7\n",
      "8\n",
      "9\n"
     ]
    }
   ],
   "source": [
    "for i in np.nditer(array):\n",
    "    print(i)"
   ]
  },
  {
   "cell_type": "markdown",
   "id": "ed5f8bb4-850e-4dcf-b56c-cd0514d0e554",
   "metadata": {},
   "source": [
    "# 5,10,15,20,25,30 değerlerinden oluşan bir boyutlu bir array ve 1,2,3,4,5,6 değerlerinden oluşan başka bir boyutlu bir array oluşturun. Bu arraylerinin elemanlarına kendi aralarında 4 işlem uygulayın. İki arrayinde 1.indexindekiler toplansınçıkartılsınçarpılsınbölünsün gibi."
   ]
  },
  {
   "cell_type": "code",
   "execution_count": 8,
   "id": "1196081f-d44b-4900-bd3c-88b8eaf21f36",
   "metadata": {},
   "outputs": [
    {
     "name": "stdout",
     "output_type": "stream",
     "text": [
      "[5. 5. 5. 5. 5. 5.]\n",
      "[  5  20  45  80 125 180]\n",
      "[ 6 12 18 24 30 36]\n",
      "[ 4  8 12 16 20 24]\n"
     ]
    }
   ],
   "source": [
    "array1=np.arange(5,35,5)\n",
    "array2=np.arange(1,7)\n",
    "print(array1/array2)\n",
    "print(array1*array2)\n",
    "print(array1+array2)\n",
    "print(array1-array2)"
   ]
  },
  {
   "cell_type": "markdown",
   "id": "32e28d4e-0b88-4623-86ce-491af6c50e53",
   "metadata": {},
   "source": [
    "# 0-100 arası rastgele 10 tam sayıdan oluşan bir array oluşturun ve oluşturulan arrayin summeanmaxvarstd değerlerini inceleyin."
   ]
  },
  {
   "cell_type": "code",
   "execution_count": 9,
   "id": "125f9a12-20a5-4ba2-8782-2a9c3c2c2ef1",
   "metadata": {},
   "outputs": [
    {
     "data": {
      "text/plain": [
       "array([38, 53, 75, 34, 19, 87, 93, 73, 30, 65])"
      ]
     },
     "execution_count": 9,
     "metadata": {},
     "output_type": "execute_result"
    }
   ],
   "source": [
    "array=np.random.randint(0,101,10)\n",
    "array"
   ]
  },
  {
   "cell_type": "code",
   "execution_count": 10,
   "id": "008b2df6-a20f-4a8e-81f2-a515280a168d",
   "metadata": {},
   "outputs": [
    {
     "data": {
      "text/plain": [
       "567"
      ]
     },
     "execution_count": 10,
     "metadata": {},
     "output_type": "execute_result"
    }
   ],
   "source": [
    "array.sum()"
   ]
  },
  {
   "cell_type": "code",
   "execution_count": 11,
   "id": "3170b713-6776-4869-80e9-592c5163dd35",
   "metadata": {},
   "outputs": [
    {
     "data": {
      "text/plain": [
       "56.7"
      ]
     },
     "execution_count": 11,
     "metadata": {},
     "output_type": "execute_result"
    }
   ],
   "source": [
    "array.mean()"
   ]
  },
  {
   "cell_type": "code",
   "execution_count": 12,
   "id": "d9e24092-30a4-4ca0-972c-96b39f935547",
   "metadata": {},
   "outputs": [
    {
     "data": {
      "text/plain": [
       "93"
      ]
     },
     "execution_count": 12,
     "metadata": {},
     "output_type": "execute_result"
    }
   ],
   "source": [
    "array.max()"
   ]
  },
  {
   "cell_type": "code",
   "execution_count": 13,
   "id": "9239e453-4297-4595-99a7-7b690d54d2fa",
   "metadata": {},
   "outputs": [
    {
     "data": {
      "text/plain": [
       "591.8100000000001"
      ]
     },
     "execution_count": 13,
     "metadata": {},
     "output_type": "execute_result"
    }
   ],
   "source": [
    "array.var()"
   ]
  },
  {
   "cell_type": "code",
   "execution_count": 14,
   "id": "aa9159bf-d9d1-4a84-82ba-4137ef9e47b0",
   "metadata": {},
   "outputs": [
    {
     "data": {
      "text/plain": [
       "24.327145331912664"
      ]
     },
     "execution_count": 14,
     "metadata": {},
     "output_type": "execute_result"
    }
   ],
   "source": [
    "array.std()"
   ]
  },
  {
   "cell_type": "markdown",
   "id": "161a0330-1820-46b1-bc20-ee11f4172eab",
   "metadata": {},
   "source": [
    "# 0-20 arası(20 dahil değil) tam sayılardan oluşan ve 500-530(530 dahil) arası tam sayılardan oluşan 2 array oluşturun. Ardından bu iki array'i concatenate ederek ekrana yazdırın."
   ]
  },
  {
   "cell_type": "code",
   "execution_count": 15,
   "id": "7a3d28dd-696e-4911-93c4-0dc9a611b5b9",
   "metadata": {},
   "outputs": [
    {
     "data": {
      "text/plain": [
       "array([500, 501, 502, 503, 504, 505, 506, 507, 508, 509, 510, 511, 512,\n",
       "       513, 514, 515, 516, 517, 518, 519, 520, 521, 522, 523, 524, 525,\n",
       "       526, 527, 528, 529, 530])"
      ]
     },
     "execution_count": 15,
     "metadata": {},
     "output_type": "execute_result"
    }
   ],
   "source": [
    "array1=np.arange(0,20)\n",
    "array2=np.arange(500,531)\n",
    "array2"
   ]
  },
  {
   "cell_type": "code",
   "execution_count": 16,
   "id": "f069c284-e490-41ab-941b-c55e3d4c8fa6",
   "metadata": {},
   "outputs": [
    {
     "data": {
      "text/plain": [
       "array([  0,   1,   2,   3,   4,   5,   6,   7,   8,   9,  10,  11,  12,\n",
       "        13,  14,  15,  16,  17,  18,  19, 500, 501, 502, 503, 504, 505,\n",
       "       506, 507, 508, 509, 510, 511, 512, 513, 514, 515, 516, 517, 518,\n",
       "       519, 520, 521, 522, 523, 524, 525, 526, 527, 528, 529, 530])"
      ]
     },
     "execution_count": 16,
     "metadata": {},
     "output_type": "execute_result"
    }
   ],
   "source": [
    "np.concatenate([array1,array2],axis=0)"
   ]
  },
  {
   "cell_type": "markdown",
   "id": "f8373729-9b94-4a41-b985-8b60af30a621",
   "metadata": {},
   "source": [
    "# 15-50(50 dahil) arası tam sayılardan oluşan bir array oluşturun. Daha sonra 10-100 arası(100 dahil) tam sayılardan oluşan 2.bir array oluşturun. Bu 2 arrayi concatanate ederek 3.bir array oluşturun ve bu array'in 25.index ile 50.index'i(50 dahil) arasındaki değerlerini 888 yapın."
   ]
  },
  {
   "cell_type": "code",
   "execution_count": 17,
   "id": "6cdb44f5-095d-4808-9951-1fbece736618",
   "metadata": {},
   "outputs": [
    {
     "data": {
      "text/plain": [
       "array([ 15,  16,  17,  18,  19,  20,  21,  22,  23,  24,  25,  26,  27,\n",
       "        28,  29,  30,  31,  32,  33,  34,  35,  36,  37,  38,  39, 888,\n",
       "       888, 888, 888, 888, 888, 888, 888, 888, 888, 888, 888, 888, 888,\n",
       "       888, 888, 888, 888, 888, 888, 888, 888, 888, 888, 888, 888,  25,\n",
       "        26,  27,  28,  29,  30,  31,  32,  33,  34,  35,  36,  37,  38,\n",
       "        39,  40,  41,  42,  43,  44,  45,  46,  47,  48,  49,  50,  51,\n",
       "        52,  53,  54,  55,  56,  57,  58,  59,  60,  61,  62,  63,  64,\n",
       "        65,  66,  67,  68,  69,  70,  71,  72,  73,  74,  75,  76,  77,\n",
       "        78,  79,  80,  81,  82,  83,  84,  85,  86,  87,  88,  89,  90,\n",
       "        91,  92,  93,  94,  95,  96,  97,  98,  99, 100])"
      ]
     },
     "execution_count": 17,
     "metadata": {},
     "output_type": "execute_result"
    }
   ],
   "source": [
    "array1=np.arange(15,51)\n",
    "array2=np.arange(10,101)\n",
    "array3=np.concatenate([array1,array2],axis=0)\n",
    "array3[25:51]=888\n",
    "array3"
   ]
  },
  {
   "cell_type": "markdown",
   "id": "05478f7f-4839-46e9-bc11-7746014307c7",
   "metadata": {},
   "source": [
    "# 0-40(40 dahil değil) arası değerlerden oluşan (8,5) shape'inde 2 boyutlu bir array ve  320-360(360 dahil değil) değerlerinden oluşan (8,5) shape'inde 2 boyutlubaşka bir array oluşturun. Devamında bu iki array'i hem axis = 0'da hem de axis = 1'de concatenate ederek farkı karşılaştırın."
   ]
  },
  {
   "cell_type": "code",
   "execution_count": 18,
   "id": "ec2272ca-676b-4481-a12c-7d213d990c9f",
   "metadata": {},
   "outputs": [
    {
     "name": "stdout",
     "output_type": "stream",
     "text": [
      "[[  0   1   2   3   4]\n",
      " [  5   6   7   8   9]\n",
      " [ 10  11  12  13  14]\n",
      " [ 15  16  17  18  19]\n",
      " [ 20  21  22  23  24]\n",
      " [ 25  26  27  28  29]\n",
      " [ 30  31  32  33  34]\n",
      " [ 35  36  37  38  39]\n",
      " [320 321 322 323 324]\n",
      " [325 326 327 328 329]\n",
      " [330 331 332 333 334]\n",
      " [335 336 337 338 339]\n",
      " [340 341 342 343 344]\n",
      " [345 346 347 348 349]\n",
      " [350 351 352 353 354]\n",
      " [355 356 357 358 359]]\n",
      "[[  0   1   2   3   4 320 321 322 323 324]\n",
      " [  5   6   7   8   9 325 326 327 328 329]\n",
      " [ 10  11  12  13  14 330 331 332 333 334]\n",
      " [ 15  16  17  18  19 335 336 337 338 339]\n",
      " [ 20  21  22  23  24 340 341 342 343 344]\n",
      " [ 25  26  27  28  29 345 346 347 348 349]\n",
      " [ 30  31  32  33  34 350 351 352 353 354]\n",
      " [ 35  36  37  38  39 355 356 357 358 359]]\n"
     ]
    }
   ],
   "source": [
    "array1=np.arange(0,40).reshape(8,5)\n",
    "array2=np.arange(320,360).reshape(8,5)\n",
    "array3=np.concatenate([array1,array2],axis=0)\n",
    "print(array3)\n",
    "array3=np.concatenate([array1,array2],axis=1)\n",
    "print(array3)"
   ]
  },
  {
   "cell_type": "markdown",
   "id": "665c592e-2e86-4b50-8e5c-be4185900afe",
   "metadata": {},
   "source": [
    "# 9.Soruda oluşturduğunuz 2 array'i axis = 2'de concatenate etmeye çalışın. Ardından axis = 2'de stacklemeye(yığınlamaya) çalışın. İkisi arasındaki farkı karşılaştırın."
   ]
  },
  {
   "cell_type": "code",
   "execution_count": 19,
   "id": "5afd99b3-84a9-4574-9fc5-4c34429b28fa",
   "metadata": {},
   "outputs": [
    {
     "name": "stdout",
     "output_type": "stream",
     "text": [
      "[[  0   1   2   3   4 320 321 322 323 324]\n",
      " [  5   6   7   8   9 325 326 327 328 329]\n",
      " [ 10  11  12  13  14 330 331 332 333 334]\n",
      " [ 15  16  17  18  19 335 336 337 338 339]\n",
      " [ 20  21  22  23  24 340 341 342 343 344]\n",
      " [ 25  26  27  28  29 345 346 347 348 349]\n",
      " [ 30  31  32  33  34 350 351 352 353 354]\n",
      " [ 35  36  37  38  39 355 356 357 358 359]]\n",
      "[[[  0   1   2   3   4]\n",
      "  [320 321 322 323 324]]\n",
      "\n",
      " [[  5   6   7   8   9]\n",
      "  [325 326 327 328 329]]\n",
      "\n",
      " [[ 10  11  12  13  14]\n",
      "  [330 331 332 333 334]]\n",
      "\n",
      " [[ 15  16  17  18  19]\n",
      "  [335 336 337 338 339]]\n",
      "\n",
      " [[ 20  21  22  23  24]\n",
      "  [340 341 342 343 344]]\n",
      "\n",
      " [[ 25  26  27  28  29]\n",
      "  [345 346 347 348 349]]\n",
      "\n",
      " [[ 30  31  32  33  34]\n",
      "  [350 351 352 353 354]]\n",
      "\n",
      " [[ 35  36  37  38  39]\n",
      "  [355 356 357 358 359]]]\n"
     ]
    }
   ],
   "source": [
    "array4=np.concatenate([array1,array2],axis=1)\n",
    "array5=np.stack([array1,array2],axis=1)\n",
    "print(array4)\n",
    "print(array5)"
   ]
  },
  {
   "cell_type": "markdown",
   "id": "1a065c1a-f605-47cf-b700-67900e2f3746",
   "metadata": {},
   "source": [
    "# [1, 20, 25, 4, 4, 5, 4, 4, 1, 6, 9, 12, 1, 5] değerlerinden oluşan bir boyutlu bir array oluşturun. Devamında bu array'in içinde değeri 5'e eşit olan değerlerin indexleri bulun."
   ]
  },
  {
   "cell_type": "code",
   "execution_count": 20,
   "id": "df74a499-a5b3-4794-b22e-6f54d58e8955",
   "metadata": {},
   "outputs": [
    {
     "data": {
      "text/plain": [
       "(array([ 5, 13], dtype=int64),)"
      ]
     },
     "execution_count": 20,
     "metadata": {},
     "output_type": "execute_result"
    }
   ],
   "source": [
    "array=np.array([1, 20, 25, 4, 4, 5, 4, 4, 1, 6, 9, 12, 1, 5])\n",
    "np.where(array==5)"
   ]
  },
  {
   "cell_type": "markdown",
   "id": "6da8cc8c-7974-422a-b71f-503df6f48f04",
   "metadata": {},
   "source": [
    "# Yukarıda oluşturduğunuz array içinde değeri çift olan değerlerin indexlerini bulun."
   ]
  },
  {
   "cell_type": "code",
   "execution_count": 21,
   "id": "a9f92f7a-bd75-468b-8d52-4cca0d924b00",
   "metadata": {},
   "outputs": [
    {
     "data": {
      "text/plain": [
       "(array([ 1,  3,  4,  6,  7,  9, 11], dtype=int64),)"
      ]
     },
     "execution_count": 21,
     "metadata": {},
     "output_type": "execute_result"
    }
   ],
   "source": [
    "np.where(array%2==0)"
   ]
  },
  {
   "cell_type": "markdown",
   "id": "9ba5b47c-cd38-4828-b055-fea6afbfe7e8",
   "metadata": {},
   "source": [
    "# Yukarıda oluşturduğunuz array içinde değeri 4'den büyük olan değerlerin indexlerini bulun."
   ]
  },
  {
   "cell_type": "code",
   "execution_count": 22,
   "id": "d4268ec5-a6e8-431b-9638-fe04f9d3121b",
   "metadata": {},
   "outputs": [
    {
     "data": {
      "text/plain": [
       "(array([ 1,  2,  5,  9, 10, 11, 13], dtype=int64),)"
      ]
     },
     "execution_count": 22,
     "metadata": {},
     "output_type": "execute_result"
    }
   ],
   "source": [
    "np.where(array>4)"
   ]
  },
  {
   "cell_type": "markdown",
   "id": "d4fc5c1d-b1b6-4a0f-9e66-6429e40d42bb",
   "metadata": {},
   "source": [
    "# Yukarıda oluşturduğunuz array içinde değeri 5'e tam bölünen değerlerin indexlerini bulun."
   ]
  },
  {
   "cell_type": "code",
   "execution_count": 23,
   "id": "556b0246-35cf-4fce-8721-2417b9e81f01",
   "metadata": {},
   "outputs": [
    {
     "data": {
      "text/plain": [
       "(array([ 1,  2,  5, 13], dtype=int64),)"
      ]
     },
     "execution_count": 23,
     "metadata": {},
     "output_type": "execute_result"
    }
   ],
   "source": [
    "np.where(array%5==0)"
   ]
  },
  {
   "cell_type": "markdown",
   "id": "b261957a-3c0d-4f16-ac05-ea58eac2cff0",
   "metadata": {},
   "source": [
    "# 85-100(100 dahil) arasından rastgele 1 tam sayı seçin"
   ]
  },
  {
   "cell_type": "code",
   "execution_count": 24,
   "id": "1661c82f-8e87-49e9-8f72-78b57309d76f",
   "metadata": {},
   "outputs": [
    {
     "data": {
      "text/plain": [
       "94"
      ]
     },
     "execution_count": 24,
     "metadata": {},
     "output_type": "execute_result"
    }
   ],
   "source": [
    "np.random.randint(85,101)"
   ]
  },
  {
   "cell_type": "markdown",
   "id": "74868473-3cca-4307-a5e7-e1955432c336",
   "metadata": {},
   "source": [
    "# İki basamaklı tam sayılar arasından rastgele sayılar seçerek (3,3) shape'inde bir array oluşturun."
   ]
  },
  {
   "cell_type": "code",
   "execution_count": 25,
   "id": "0e290bd1-61f1-48e4-97d6-450269e8da97",
   "metadata": {},
   "outputs": [
    {
     "data": {
      "text/plain": [
       "array([[69, 52, 89],\n",
       "       [47, 12, 43],\n",
       "       [30, 42, 20]])"
      ]
     },
     "execution_count": 25,
     "metadata": {},
     "output_type": "execute_result"
    }
   ],
   "source": [
    "array=np.random.randint(10,100,9).reshape(3,3)\n",
    "array"
   ]
  },
  {
   "cell_type": "markdown",
   "id": "b779abd3-d68c-4e9c-bb7c-c98ace37ba07",
   "metadata": {},
   "source": [
    "# 35-60 arasındaki tam sayılardan bir array oluşturun, ardından bu array içinden rastgele 1 tam sayı seçin."
   ]
  },
  {
   "cell_type": "code",
   "execution_count": 26,
   "id": "a0f86abb-6a85-4e86-a271-aed1e796e171",
   "metadata": {},
   "outputs": [
    {
     "name": "stdout",
     "output_type": "stream",
     "text": [
      "[35 36 37 38 39 40 41 42 43 44 45 46 47 48 49 50 51 52 53 54 55 56 57 58\n",
      " 59]\n"
     ]
    },
    {
     "data": {
      "text/plain": [
       "35"
      ]
     },
     "execution_count": 26,
     "metadata": {},
     "output_type": "execute_result"
    }
   ],
   "source": [
    "array=np.arange(35,60)\n",
    "print(array)\n",
    "np.random.choice(array)"
   ]
  },
  {
   "cell_type": "markdown",
   "id": "6c29a380-59c1-4df5-93c7-2c19acffa159",
   "metadata": {},
   "source": [
    "# Sadece [3, 8, 10, 53] değerlerinden oluşan (2,5) shape'inde 2 boyutlu bir array oluşturun."
   ]
  },
  {
   "cell_type": "code",
   "execution_count": 27,
   "id": "c90dd281-dd3e-4704-b653-14a3a43e80f3",
   "metadata": {},
   "outputs": [
    {
     "data": {
      "text/plain": [
       "array([[ 3,  8, 10, 53,  3],\n",
       "       [ 3,  8, 10, 53,  8]])"
      ]
     },
     "execution_count": 27,
     "metadata": {},
     "output_type": "execute_result"
    }
   ],
   "source": [
    "array = np.array([[3, 8, 10, 53, 3], \n",
    "                [3, 8, 10, 53, 8]])\n",
    "array"
   ]
  },
  {
   "cell_type": "code",
   "execution_count": null,
   "id": "115205ed-695f-4e60-b2ff-e0fd05b14bc7",
   "metadata": {},
   "outputs": [],
   "source": []
  }
 ],
 "metadata": {
  "kernelspec": {
   "display_name": "Python 3 (ipykernel)",
   "language": "python",
   "name": "python3"
  },
  "language_info": {
   "codemirror_mode": {
    "name": "ipython",
    "version": 3
   },
   "file_extension": ".py",
   "mimetype": "text/x-python",
   "name": "python",
   "nbconvert_exporter": "python",
   "pygments_lexer": "ipython3",
   "version": "3.9.13"
  }
 },
 "nbformat": 4,
 "nbformat_minor": 5
}
